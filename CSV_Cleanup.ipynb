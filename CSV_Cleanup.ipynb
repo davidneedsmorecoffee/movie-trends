{
 "cells": [
  {
   "cell_type": "code",
   "execution_count": 25,
   "metadata": {},
   "outputs": [],
   "source": [
    "import omdb\n",
    "import os\n",
    "import pandas as pd\n",
    "import numpy as np\n",
    "from datetime import datetime\n",
    "import requests\n",
    "import matplotlib.pyplot as plt"
   ]
  },
  {
   "cell_type": "code",
   "execution_count": 26,
   "metadata": {
    "scrolled": true
   },
   "outputs": [],
   "source": [
    "df = pd.read_csv('All_Movies_1999_2019.csv')"
   ]
  },
  {
   "cell_type": "code",
   "execution_count": 27,
   "metadata": {},
   "outputs": [
    {
     "data": {
      "text/plain": [
       "Unnamed: 0           int64\n",
       "Title               object\n",
       "Metascore          float64\n",
       "Rated               object\n",
       "Runtime             object\n",
       "Released            object\n",
       "Genre               object\n",
       "Box Office         float64\n",
       "imdb_rating        float64\n",
       "imdb_votes          object\n",
       "imdb_source         object\n",
       "imdb_score         float64\n",
       "rotten_source       object\n",
       "rotten_score       float64\n",
       "metacrit_source     object\n",
       "metacrit_score     float64\n",
       "release_month       object\n",
       "release_year         int32\n",
       "dtype: object"
      ]
     },
     "execution_count": 27,
     "metadata": {},
     "output_type": "execute_result"
    }
   ],
   "source": [
    "# clean up\n",
    "df = df.dropna()\n",
    "\n",
    "datestring = df[\"Released\"]\n",
    "months = []\n",
    "for month in datestring:\n",
    "    month = datetime.strptime(month, \"%d %b %Y\")\n",
    "    month = month.strftime(\"%m\")\n",
    "    months.append(month)\n",
    "    \n",
    "years = []\n",
    "for year in datestring:\n",
    "    year = datetime.strptime(year, \"%d %b %Y\")\n",
    "    year = year.strftime(\"%Y\")\n",
    "    years.append(year)\n",
    "    \n",
    "df[\"release_month\"] = months\n",
    "df[\"release_year\"] = years\n",
    "df[\"release_year\"] = df[\"release_year\"].astype(int)\n",
    "df = df.loc[df[\"release_year\"]>=2000]\n",
    "\n",
    "df['Box Office'] = df['Box Office'].str.replace('$', '')\n",
    "df['Box Office'] = df['Box Office'].str.replace(',', '')\n",
    "df['Box Office'] = df['Box Office'].astype(float)\n",
    "\n",
    "df['imdb_score'] = df['imdb_score'].str.replace('/10', '')\n",
    "df['imdb_score'] = df['imdb_score'].astype(float)\n",
    "\n",
    "df['rotten_score'] = df['rotten_score'].str.replace('%', '')\n",
    "df['rotten_score'] = df['rotten_score'].astype(float)\n",
    "df['rotten_score'] = df['rotten_score'].div(10).round(2)\n",
    "\n",
    "df['metacrit_score'] = df['metacrit_score'].str.replace('/100', '')\n",
    "df['metacrit_score'] = df['metacrit_score'].astype(float)\n",
    "df['metacrit_score'] = df['metacrit_score'].div(10).round(2)\n",
    "\n",
    "df['Rated'] = df['Rated'].str.replace('NOT RATED', 'Not Rated')\n",
    "df['Rated'] = df['Rated'].str.replace('Unrated', 'Not Rated')\n",
    "\n",
    "df = df.drop(columns=['Year'])\n",
    "\n",
    "df.dtypes"
   ]
  },
  {
   "cell_type": "code",
   "execution_count": 28,
   "metadata": {},
   "outputs": [],
   "source": [
    "df.to_csv('All_Movies_Working.csv', header= True)"
   ]
  }
 ],
 "metadata": {
  "kernelspec": {
   "display_name": "Python 3",
   "language": "python",
   "name": "python3"
  },
  "language_info": {
   "codemirror_mode": {
    "name": "ipython",
    "version": 3
   },
   "file_extension": ".py",
   "mimetype": "text/x-python",
   "name": "python",
   "nbconvert_exporter": "python",
   "pygments_lexer": "ipython3",
   "version": "3.7.3"
  }
 },
 "nbformat": 4,
 "nbformat_minor": 2
}
